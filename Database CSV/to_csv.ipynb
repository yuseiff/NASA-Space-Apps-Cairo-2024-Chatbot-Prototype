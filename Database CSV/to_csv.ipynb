{
 "cells": [
  {
   "cell_type": "code",
   "execution_count": 2,
   "metadata": {},
   "outputs": [
    {
     "name": "stdout",
     "output_type": "stream",
     "text": [
      "Converted Successfully\n"
     ]
    },
    {
     "name": "stderr",
     "output_type": "stream",
     "text": [
      "C:\\Users\\HP\\AppData\\Local\\Temp\\ipykernel_11764\\724633797.py:16: UserWarning: pandas only supports SQLAlchemy connectable (engine/connection) or database string URI or sqlite3 DBAPI2 connection. Other DBAPI2 objects are not tested. Please consider using SQLAlchemy.\n",
      "  df = pd.read_sql(query, conn)\n"
     ]
    }
   ],
   "source": [
    "import pandas as pd\n",
    "import mysql.connector\n",
    "\n",
    "# Connect to MySQL\n",
    "conn = mysql.connector.connect(\n",
    "    host='localhost',  # e.g., 'localhost' or '127.0.0.1'\n",
    "    user='root',  # e.g., 'root'\n",
    "    password='3172004@mysql',\n",
    "    database='NASA_Hackathon_Challenges'\n",
    ")\n",
    "\n",
    "# Query to fetch data\n",
    "query = \"SELECT * FROM Challenges\"\n",
    "\n",
    "# Read data into a DataFrame\n",
    "df = pd.read_sql(query, conn)\n",
    "\n",
    "# Export DataFrame to CSV\n",
    "df.to_csv('Challenges.csv', index=False)\n",
    "print('Converted Successfully')\n",
    "# Close the connection\n",
    "conn.close()"
   ]
  },
  {
   "cell_type": "code",
   "execution_count": 3,
   "metadata": {},
   "outputs": [
    {
     "name": "stdout",
     "output_type": "stream",
     "text": [
      "Converted Successfully\n"
     ]
    },
    {
     "name": "stderr",
     "output_type": "stream",
     "text": [
      "C:\\Users\\HP\\AppData\\Local\\Temp\\ipykernel_11764\\1181923029.py:12: UserWarning: pandas only supports SQLAlchemy connectable (engine/connection) or database string URI or sqlite3 DBAPI2 connection. Other DBAPI2 objects are not tested. Please consider using SQLAlchemy.\n",
      "  df = pd.read_sql(query, conn)\n"
     ]
    }
   ],
   "source": [
    "conn = mysql.connector.connect(\n",
    "    host='localhost',  # e.g., 'localhost' or '127.0.0.1'\n",
    "    user='root',  # e.g., 'root'\n",
    "    password='3172004@mysql',\n",
    "    database='NASA_Hackathon_Challenges'\n",
    ")\n",
    "\n",
    "# Query to fetch data\n",
    "query = \"SELECT * FROM PotentialConsiderations\"\n",
    "\n",
    "# Read data into a DataFrame\n",
    "df = pd.read_sql(query, conn)\n",
    "\n",
    "# Export DataFrame to CSV\n",
    "df.to_csv('PotentialConsiderations.csv', index=False)\n",
    "print('Converted Successfully')\n",
    "# Close the connection\n",
    "conn.close()"
   ]
  },
  {
   "cell_type": "code",
   "execution_count": 4,
   "metadata": {},
   "outputs": [
    {
     "name": "stdout",
     "output_type": "stream",
     "text": [
      "Converted Successfully\n"
     ]
    },
    {
     "name": "stderr",
     "output_type": "stream",
     "text": [
      "C:\\Users\\HP\\AppData\\Local\\Temp\\ipykernel_11764\\3137147308.py:12: UserWarning: pandas only supports SQLAlchemy connectable (engine/connection) or database string URI or sqlite3 DBAPI2 connection. Other DBAPI2 objects are not tested. Please consider using SQLAlchemy.\n",
      "  df = pd.read_sql(query, conn)\n"
     ]
    }
   ],
   "source": [
    "conn = mysql.connector.connect(\n",
    "    host='localhost',  # e.g., 'localhost' or '127.0.0.1'\n",
    "    user='root',  # e.g., 'root'\n",
    "    password='3172004@mysql',\n",
    "    database='NASA_Hackathon_Challenges'\n",
    ")\n",
    "\n",
    "# Query to fetch data\n",
    "query = \"SELECT * FROM OutcomesTopics\"\n",
    "\n",
    "# Read data into a DataFrame\n",
    "df = pd.read_sql(query, conn)\n",
    "\n",
    "# Export DataFrame to CSV\n",
    "df.to_csv('OutcomesTopics.csv', index=False)\n",
    "print('Converted Successfully')\n",
    "# Close the connection\n",
    "conn.close()"
   ]
  },
  {
   "cell_type": "code",
   "execution_count": null,
   "metadata": {},
   "outputs": [],
   "source": []
  }
 ],
 "metadata": {
  "kernelspec": {
   "display_name": "Python 3",
   "language": "python",
   "name": "python3"
  },
  "language_info": {
   "codemirror_mode": {
    "name": "ipython",
    "version": 3
   },
   "file_extension": ".py",
   "mimetype": "text/x-python",
   "name": "python",
   "nbconvert_exporter": "python",
   "pygments_lexer": "ipython3",
   "version": "3.10.0"
  }
 },
 "nbformat": 4,
 "nbformat_minor": 2
}
