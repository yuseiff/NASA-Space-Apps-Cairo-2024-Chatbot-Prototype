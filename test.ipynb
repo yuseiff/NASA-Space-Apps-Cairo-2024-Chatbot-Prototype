{
 "cells": [
  {
   "cell_type": "code",
   "execution_count": 34,
   "metadata": {},
   "outputs": [
    {
     "data": {
      "text/html": [
       "<div>\n",
       "<style scoped>\n",
       "    .dataframe tbody tr th:only-of-type {\n",
       "        vertical-align: middle;\n",
       "    }\n",
       "\n",
       "    .dataframe tbody tr th {\n",
       "        vertical-align: top;\n",
       "    }\n",
       "\n",
       "    .dataframe thead th {\n",
       "        text-align: right;\n",
       "    }\n",
       "</style>\n",
       "<table border=\"1\" class=\"dataframe\">\n",
       "  <thead>\n",
       "    <tr style=\"text-align: right;\">\n",
       "      <th></th>\n",
       "      <th>Unnamed: 0</th>\n",
       "      <th>Challange Name</th>\n",
       "      <th>Challange Summary</th>\n",
       "      <th>Breif Potential Considerations</th>\n",
       "      <th>Outcomes Topics</th>\n",
       "    </tr>\n",
       "  </thead>\n",
       "  <tbody>\n",
       "    <tr>\n",
       "      <th>0</th>\n",
       "      <td>0</td>\n",
       "      <td>A Marketplace for Open Science Projects</td>\n",
       "      <td>1-Problem:There are many open source projects ...</td>\n",
       "      <td>- The tool partcipants develop will run in a w...</td>\n",
       "      <td>Web App &amp; Data Science</td>\n",
       "    </tr>\n",
       "    <tr>\n",
       "      <th>1</th>\n",
       "      <td>1</td>\n",
       "      <td>Artemis II and You!</td>\n",
       "      <td>1- Problem: challnge is mainly based on backin...</td>\n",
       "      <td>1-  video accessible to everyone.2-present inf...</td>\n",
       "      <td>Video Editing &amp; Resreach</td>\n",
       "    </tr>\n",
       "    <tr>\n",
       "      <th>2</th>\n",
       "      <td>2</td>\n",
       "      <td>Be a Space Geologist</td>\n",
       "      <td>1-Problem: Geologists spend much time in study...</td>\n",
       "      <td>1- Geologists could use the app to advance geo...</td>\n",
       "      <td>Web/Mobile App &amp; Data Science</td>\n",
       "    </tr>\n",
       "    <tr>\n",
       "      <th>3</th>\n",
       "      <td>3</td>\n",
       "      <td>Building the Space Biology “Model Zoo”</td>\n",
       "      <td>1-Problem:Unleashing the power of Meachine Lea...</td>\n",
       "      <td>1-A model in a space biology “model zoo” uses ...</td>\n",
       "      <td>Biomedical / Database Design / Data Science / ...</td>\n",
       "    </tr>\n",
       "    <tr>\n",
       "      <th>4</th>\n",
       "      <td>4</td>\n",
       "      <td>Create a Work of SARt (Synthetic Aperture Rada...</td>\n",
       "      <td>1- Problem: SAR (synthetic aperture radar) is ...</td>\n",
       "      <td>1-T he submissions will be judged by NASA expe...</td>\n",
       "      <td>image/ video/ 3D Model\\n</td>\n",
       "    </tr>\n",
       "  </tbody>\n",
       "</table>\n",
       "</div>"
      ],
      "text/plain": [
       "   Unnamed: 0                                    Challange Name   \\\n",
       "0           0            A Marketplace for Open Science Projects   \n",
       "1           1                                Artemis II and You!   \n",
       "2           2                               Be a Space Geologist   \n",
       "3           3             Building the Space Biology “Model Zoo”   \n",
       "4           4  Create a Work of SARt (Synthetic Aperture Rada...   \n",
       "\n",
       "                                  Challange Summary   \\\n",
       "0  1-Problem:There are many open source projects ...   \n",
       "1  1- Problem: challnge is mainly based on backin...   \n",
       "2  1-Problem: Geologists spend much time in study...   \n",
       "3  1-Problem:Unleashing the power of Meachine Lea...   \n",
       "4  1- Problem: SAR (synthetic aperture radar) is ...   \n",
       "\n",
       "                      Breif Potential Considerations  \\\n",
       "0  - The tool partcipants develop will run in a w...   \n",
       "1  1-  video accessible to everyone.2-present inf...   \n",
       "2  1- Geologists could use the app to advance geo...   \n",
       "3  1-A model in a space biology “model zoo” uses ...   \n",
       "4  1-T he submissions will be judged by NASA expe...   \n",
       "\n",
       "                                     Outcomes Topics  \n",
       "0                            Web App & Data Science   \n",
       "1                           Video Editing & Resreach  \n",
       "2                      Web/Mobile App & Data Science  \n",
       "3  Biomedical / Database Design / Data Science / ...  \n",
       "4                           image/ video/ 3D Model\\n  "
      ]
     },
     "execution_count": 34,
     "metadata": {},
     "output_type": "execute_result"
    }
   ],
   "source": [
    "import pandas as pd\n",
    "import re\n",
    "\n",
    "data = pd.read_csv('Challanges Explanation.csv')\n",
    "data.head()"
   ]
  },
  {
   "cell_type": "code",
   "execution_count": 35,
   "metadata": {},
   "outputs": [],
   "source": [
    "data.drop(['Unnamed: 0'],axis=1,inplace=True)"
   ]
  },
  {
   "cell_type": "code",
   "execution_count": 36,
   "metadata": {},
   "outputs": [
    {
     "data": {
      "text/plain": [
       "'1-Problem:There are many open source projects and tools,and there is no place online for project creators and skilled participants to find each other, mingle, and foster professional relationships to work on interesting open research projects. 2- The Required solution: creating a tool that will enable open science project creators and skilled potential contributors to identify one another and communicate as Project creators will need to explain their projects and level of expertise their need and partcipants would list ther skills and projects they are seeking.'"
      ]
     },
     "execution_count": 36,
     "metadata": {},
     "output_type": "execute_result"
    }
   ],
   "source": [
    "data['Challange Summary '][0]"
   ]
  },
  {
   "cell_type": "code",
   "execution_count": 37,
   "metadata": {},
   "outputs": [
    {
     "data": {
      "text/plain": [
       "Challange Name                    0\n",
       "Challange Summary                 0\n",
       "Breif Potential Considerations    0\n",
       "Outcomes Topics                   0\n",
       "dtype: int64"
      ]
     },
     "execution_count": 37,
     "metadata": {},
     "output_type": "execute_result"
    }
   ],
   "source": [
    "data.isna().sum()"
   ]
  },
  {
   "cell_type": "code",
   "execution_count": 23,
   "metadata": {},
   "outputs": [
    {
     "data": {
      "text/html": [
       "<div>\n",
       "<style scoped>\n",
       "    .dataframe tbody tr th:only-of-type {\n",
       "        vertical-align: middle;\n",
       "    }\n",
       "\n",
       "    .dataframe tbody tr th {\n",
       "        vertical-align: top;\n",
       "    }\n",
       "\n",
       "    .dataframe thead th {\n",
       "        text-align: right;\n",
       "    }\n",
       "</style>\n",
       "<table border=\"1\" class=\"dataframe\">\n",
       "  <thead>\n",
       "    <tr style=\"text-align: right;\">\n",
       "      <th></th>\n",
       "      <th>Challange Name</th>\n",
       "      <th>Challange Summary</th>\n",
       "      <th>Breif Potential Considerations</th>\n",
       "      <th>Outcomes Topics</th>\n",
       "      <th>Hints and Tricks \" lets show some CRETAVITY\"</th>\n",
       "    </tr>\n",
       "  </thead>\n",
       "  <tbody>\n",
       "    <tr>\n",
       "      <th>0</th>\n",
       "      <td>A Marketplace for Open Science Projects</td>\n",
       "      <td>1-Problem:There are many open source projects ...</td>\n",
       "      <td>- The tool partcipants develop will run in a w...</td>\n",
       "      <td>Web App &amp; Data Science</td>\n",
       "      <td>Carrefour</td>\n",
       "    </tr>\n",
       "    <tr>\n",
       "      <th>1</th>\n",
       "      <td>Artemis II and You!</td>\n",
       "      <td>1- Problem: challnge is mainly based on backin...</td>\n",
       "      <td>1-  video accessible to everyone.2-present inf...</td>\n",
       "      <td>Video Editing &amp; Resreach</td>\n",
       "      <td>Apollo</td>\n",
       "    </tr>\n",
       "    <tr>\n",
       "      <th>2</th>\n",
       "      <td>Be a Space Geologist</td>\n",
       "      <td>1-Problem: Geologists spend much time in study...</td>\n",
       "      <td>1- Geologists could use the app to advance geo...</td>\n",
       "      <td>Web/Mobile App &amp; Data Science</td>\n",
       "      <td>\"How to be a lazy\" challange</td>\n",
       "    </tr>\n",
       "    <tr>\n",
       "      <th>3</th>\n",
       "      <td>Building the Space Biology “Model Zoo”</td>\n",
       "      <td>1-Problem:Unleashing the power of Meachine Lea...</td>\n",
       "      <td>1-A model in a space biology “model zoo” uses ...</td>\n",
       "      <td>Biomedical / Database Design / Data Science / ...</td>\n",
       "      <td>ماحدش فاهم حاجة خالص!</td>\n",
       "    </tr>\n",
       "    <tr>\n",
       "      <th>4</th>\n",
       "      <td>Create a Work of SARt (Synthetic Aperture Rada...</td>\n",
       "      <td>1- Problem: SAR (synthetic aperture radar) is ...</td>\n",
       "      <td>1-T he submissions will be judged by NASA expe...</td>\n",
       "      <td>image/ video/ 3D Model\\r\\n</td>\n",
       "      <td>NaN</td>\n",
       "    </tr>\n",
       "  </tbody>\n",
       "</table>\n",
       "</div>"
      ],
      "text/plain": [
       "                                     Challange Name   \\\n",
       "0            A Marketplace for Open Science Projects   \n",
       "1                                Artemis II and You!   \n",
       "2                               Be a Space Geologist   \n",
       "3             Building the Space Biology “Model Zoo”   \n",
       "4  Create a Work of SARt (Synthetic Aperture Rada...   \n",
       "\n",
       "                                  Challange Summary   \\\n",
       "0  1-Problem:There are many open source projects ...   \n",
       "1  1- Problem: challnge is mainly based on backin...   \n",
       "2  1-Problem: Geologists spend much time in study...   \n",
       "3  1-Problem:Unleashing the power of Meachine Lea...   \n",
       "4  1- Problem: SAR (synthetic aperture radar) is ...   \n",
       "\n",
       "                      Breif Potential Considerations  \\\n",
       "0  - The tool partcipants develop will run in a w...   \n",
       "1  1-  video accessible to everyone.2-present inf...   \n",
       "2  1- Geologists could use the app to advance geo...   \n",
       "3  1-A model in a space biology “model zoo” uses ...   \n",
       "4  1-T he submissions will be judged by NASA expe...   \n",
       "\n",
       "                                     Outcomes Topics  \\\n",
       "0                            Web App & Data Science    \n",
       "1                           Video Editing & Resreach   \n",
       "2                      Web/Mobile App & Data Science   \n",
       "3  Biomedical / Database Design / Data Science / ...   \n",
       "4                         image/ video/ 3D Model\\r\\n   \n",
       "\n",
       "  Hints and Tricks \" lets show some CRETAVITY\"  \n",
       "0                                    Carrefour  \n",
       "1                                       Apollo  \n",
       "2                 \"How to be a lazy\" challange  \n",
       "3                        ماحدش فاهم حاجة خالص!  \n",
       "4                                          NaN  "
      ]
     },
     "execution_count": 23,
     "metadata": {},
     "output_type": "execute_result"
    }
   ],
   "source": [
    "# columns_to_drop = ['Unnamed: 1','Unnamed: 3','Unnamed: 5','Unnamed: 6','Unnamed: 8','Unnamed: 9','Unnamed: 11','Unnamed: 12',\n",
    "#                    ' Challange Link']\n",
    "\n",
    "# data = data.drop(columns_to_drop,axis=1)\n",
    "# data.head()"
   ]
  },
  {
   "cell_type": "code",
   "execution_count": 7,
   "metadata": {},
   "outputs": [
    {
     "data": {
      "text/html": [
       "<div>\n",
       "<style scoped>\n",
       "    .dataframe tbody tr th:only-of-type {\n",
       "        vertical-align: middle;\n",
       "    }\n",
       "\n",
       "    .dataframe tbody tr th {\n",
       "        vertical-align: top;\n",
       "    }\n",
       "\n",
       "    .dataframe thead th {\n",
       "        text-align: right;\n",
       "    }\n",
       "</style>\n",
       "<table border=\"1\" class=\"dataframe\">\n",
       "  <thead>\n",
       "    <tr style=\"text-align: right;\">\n",
       "      <th></th>\n",
       "      <th>Unnamed: 0</th>\n",
       "      <th>Challange Name</th>\n",
       "      <th>Challange Summary</th>\n",
       "      <th>Breif Potential Considerations</th>\n",
       "      <th>Outcomes Topics</th>\n",
       "    </tr>\n",
       "  </thead>\n",
       "  <tbody>\n",
       "    <tr>\n",
       "      <th>0</th>\n",
       "      <td>0</td>\n",
       "      <td>A Marketplace for Open Science Projects</td>\n",
       "      <td>1-Problem:There are many open source projects ...</td>\n",
       "      <td>- The tool partcipants develop will run in a w...</td>\n",
       "      <td>Web App &amp; Data Science</td>\n",
       "    </tr>\n",
       "    <tr>\n",
       "      <th>1</th>\n",
       "      <td>1</td>\n",
       "      <td>Artemis II and You!</td>\n",
       "      <td>1- Problem: challnge is mainly based on backin...</td>\n",
       "      <td>1-  video accessible to everyone.2-present inf...</td>\n",
       "      <td>Video Editing &amp; Resreach</td>\n",
       "    </tr>\n",
       "    <tr>\n",
       "      <th>2</th>\n",
       "      <td>2</td>\n",
       "      <td>Be a Space Geologist</td>\n",
       "      <td>1-Problem: Geologists spend much time in study...</td>\n",
       "      <td>1- Geologists could use the app to advance geo...</td>\n",
       "      <td>Web/Mobile App &amp; Data Science</td>\n",
       "    </tr>\n",
       "    <tr>\n",
       "      <th>3</th>\n",
       "      <td>3</td>\n",
       "      <td>Building the Space Biology “Model Zoo”</td>\n",
       "      <td>1-Problem:Unleashing the power of Meachine Lea...</td>\n",
       "      <td>1-A model in a space biology “model zoo” uses ...</td>\n",
       "      <td>Biomedical / Database Design / Data Science / ...</td>\n",
       "    </tr>\n",
       "    <tr>\n",
       "      <th>4</th>\n",
       "      <td>4</td>\n",
       "      <td>Create a Work of SARt (Synthetic Aperture Rada...</td>\n",
       "      <td>1- Problem: SAR (synthetic aperture radar) is ...</td>\n",
       "      <td>1-T he submissions will be judged by NASA expe...</td>\n",
       "      <td>image/ video/ 3D Model\\n</td>\n",
       "    </tr>\n",
       "  </tbody>\n",
       "</table>\n",
       "</div>"
      ],
      "text/plain": [
       "   Unnamed: 0                                    Challange Name   \\\n",
       "0           0            A Marketplace for Open Science Projects   \n",
       "1           1                                Artemis II and You!   \n",
       "2           2                               Be a Space Geologist   \n",
       "3           3             Building the Space Biology “Model Zoo”   \n",
       "4           4  Create a Work of SARt (Synthetic Aperture Rada...   \n",
       "\n",
       "                                  Challange Summary   \\\n",
       "0  1-Problem:There are many open source projects ...   \n",
       "1  1- Problem: challnge is mainly based on backin...   \n",
       "2  1-Problem: Geologists spend much time in study...   \n",
       "3  1-Problem:Unleashing the power of Meachine Lea...   \n",
       "4  1- Problem: SAR (synthetic aperture radar) is ...   \n",
       "\n",
       "                      Breif Potential Considerations  \\\n",
       "0  - The tool partcipants develop will run in a w...   \n",
       "1  1-  video accessible to everyone.2-present inf...   \n",
       "2  1- Geologists could use the app to advance geo...   \n",
       "3  1-A model in a space biology “model zoo” uses ...   \n",
       "4  1-T he submissions will be judged by NASA expe...   \n",
       "\n",
       "                                     Outcomes Topics  \n",
       "0                            Web App & Data Science   \n",
       "1                           Video Editing & Resreach  \n",
       "2                      Web/Mobile App & Data Science  \n",
       "3  Biomedical / Database Design / Data Science / ...  \n",
       "4                           image/ video/ 3D Model\\n  "
      ]
     },
     "execution_count": 7,
     "metadata": {},
     "output_type": "execute_result"
    }
   ],
   "source": [
    "# data = data.drop('Hints and Tricks \" lets show some CRETAVITY\"',axis=1)\n",
    "# data.head()"
   ]
  },
  {
   "cell_type": "code",
   "execution_count": 38,
   "metadata": {},
   "outputs": [
    {
     "data": {
      "text/html": [
       "<div>\n",
       "<style scoped>\n",
       "    .dataframe tbody tr th:only-of-type {\n",
       "        vertical-align: middle;\n",
       "    }\n",
       "\n",
       "    .dataframe tbody tr th {\n",
       "        vertical-align: top;\n",
       "    }\n",
       "\n",
       "    .dataframe thead th {\n",
       "        text-align: right;\n",
       "    }\n",
       "</style>\n",
       "<table border=\"1\" class=\"dataframe\">\n",
       "  <thead>\n",
       "    <tr style=\"text-align: right;\">\n",
       "      <th></th>\n",
       "      <th>Challange Name</th>\n",
       "      <th>Challange Summary</th>\n",
       "      <th>Breif Potential Considerations</th>\n",
       "      <th>Outcomes Topics</th>\n",
       "    </tr>\n",
       "  </thead>\n",
       "  <tbody>\n",
       "    <tr>\n",
       "      <th>0</th>\n",
       "      <td>A Marketplace for Open Science Projects</td>\n",
       "      <td>1-Problem:There are many open source projects ...</td>\n",
       "      <td>- The tool partcipants develop will run in a w...</td>\n",
       "      <td>Web App &amp; Data Science</td>\n",
       "    </tr>\n",
       "    <tr>\n",
       "      <th>1</th>\n",
       "      <td>Artemis II and You!</td>\n",
       "      <td>1- Problem: challnge is mainly based on backin...</td>\n",
       "      <td>1-  video accessible to everyone.2-present inf...</td>\n",
       "      <td>Video Editing &amp; Resreach</td>\n",
       "    </tr>\n",
       "    <tr>\n",
       "      <th>2</th>\n",
       "      <td>Be a Space Geologist</td>\n",
       "      <td>1-Problem: Geologists spend much time in study...</td>\n",
       "      <td>1- Geologists could use the app to advance geo...</td>\n",
       "      <td>Web/Mobile App &amp; Data Science</td>\n",
       "    </tr>\n",
       "    <tr>\n",
       "      <th>3</th>\n",
       "      <td>Building the Space Biology “Model Zoo”</td>\n",
       "      <td>1-Problem:Unleashing the power of Meachine Lea...</td>\n",
       "      <td>1-A model in a space biology “model zoo” uses ...</td>\n",
       "      <td>Biomedical / Database Design / Data Science / ...</td>\n",
       "    </tr>\n",
       "    <tr>\n",
       "      <th>4</th>\n",
       "      <td>Create a Work of SARt (Synthetic Aperture Rada...</td>\n",
       "      <td>1- Problem: SAR (synthetic aperture radar) is ...</td>\n",
       "      <td>1-T he submissions will be judged by NASA expe...</td>\n",
       "      <td>image/ video/ 3D Model\\n</td>\n",
       "    </tr>\n",
       "  </tbody>\n",
       "</table>\n",
       "</div>"
      ],
      "text/plain": [
       "                                     Challange Name   \\\n",
       "0            A Marketplace for Open Science Projects   \n",
       "1                                Artemis II and You!   \n",
       "2                               Be a Space Geologist   \n",
       "3             Building the Space Biology “Model Zoo”   \n",
       "4  Create a Work of SARt (Synthetic Aperture Rada...   \n",
       "\n",
       "                                  Challange Summary   \\\n",
       "0  1-Problem:There are many open source projects ...   \n",
       "1  1- Problem: challnge is mainly based on backin...   \n",
       "2  1-Problem: Geologists spend much time in study...   \n",
       "3  1-Problem:Unleashing the power of Meachine Lea...   \n",
       "4  1- Problem: SAR (synthetic aperture radar) is ...   \n",
       "\n",
       "                      Breif Potential Considerations  \\\n",
       "0  - The tool partcipants develop will run in a w...   \n",
       "1  1-  video accessible to everyone.2-present inf...   \n",
       "2  1- Geologists could use the app to advance geo...   \n",
       "3  1-A model in a space biology “model zoo” uses ...   \n",
       "4  1-T he submissions will be judged by NASA expe...   \n",
       "\n",
       "                                     Outcomes Topics  \n",
       "0                            Web App & Data Science   \n",
       "1                           Video Editing & Resreach  \n",
       "2                      Web/Mobile App & Data Science  \n",
       "3  Biomedical / Database Design / Data Science / ...  \n",
       "4                           image/ video/ 3D Model\\n  "
      ]
     },
     "execution_count": 38,
     "metadata": {},
     "output_type": "execute_result"
    }
   ],
   "source": [
    "data.head()"
   ]
  },
  {
   "cell_type": "code",
   "execution_count": 39,
   "metadata": {},
   "outputs": [
    {
     "data": {
      "text/plain": [
       "array(['Web App & Data Science ', 'Video Editing & Resreach',\n",
       "       'Web/Mobile App & Data Science',\n",
       "       'Biomedical / Database Design / Data Science / ArtificiaI Intelligence/Machine Learning Model',\n",
       "       'image/ video/ 3D Model\\n',\n",
       "       'Machine Learning Regression / Adaptive Neural Network (ANN)\\nSatellite & Solar wind',\n",
       "       'Game dev / Video / Art', 'Web/Mobile App / Video',\n",
       "       'App/ Infographic / Game / Video',\n",
       "       'Data Visualization/ Web App / Art / data analysis\\n',\n",
       "       'ArtificiaI Intelligence/Machine Learning',\n",
       "       'Arts & Space Exploration\\nStorytelling',\n",
       "       '3d desgin / product design / Artificial Intelligence  / web',\n",
       "       'Data Science/ Data Visualization /Web \\n',\n",
       "       'Data science & Artificial Intelligence',\n",
       "       '3d modeling - product design - mobile app - satalite - gis ',\n",
       "       'Web/Mobile App - Data Visualization',\n",
       "       ' Web Development\\n/ Open Science  Climate Change - Diseases - Water Insecurity',\n",
       "       'satellite ', 'enviromental - gis ', 'Data Science',\n",
       "       'storytelling - vido editing ',\n",
       "       'Arts & Game Development\\n2-Space Exploration',\n",
       "       'AR/VR / web  / satalite ', 'Web/Mobile App/Machine learning',\n",
       "       'Web / Game developement / Craft Game /Biology', 'AR/VR / web',\n",
       "       'App / Data visualization / GIS',\n",
       "       'Arts & Game Development\\n2-Web Development &  Mobile Applications.'],\n",
       "      dtype=object)"
      ]
     },
     "execution_count": 39,
     "metadata": {},
     "output_type": "execute_result"
    }
   ],
   "source": [
    "data['Outcomes Topics'].unique()"
   ]
  },
  {
   "cell_type": "code",
   "execution_count": 40,
   "metadata": {},
   "outputs": [
    {
     "data": {
      "text/plain": [
       "Challange Name                    0\n",
       "Challange Summary                 0\n",
       "Breif Potential Considerations    0\n",
       "Outcomes Topics                   0\n",
       "dtype: int64"
      ]
     },
     "execution_count": 40,
     "metadata": {},
     "output_type": "execute_result"
    }
   ],
   "source": [
    "data.isna().sum()"
   ]
  },
  {
   "cell_type": "code",
   "execution_count": 17,
   "metadata": {},
   "outputs": [],
   "source": [
    "# data.to_csv('Challanges Explanation.csv')"
   ]
  },
  {
   "cell_type": "code",
   "execution_count": 44,
   "metadata": {},
   "outputs": [],
   "source": [
    "import mysql.connector\n",
    "\n",
    "# Establish the connection\n",
    "conn = mysql.connector.connect(\n",
    "    host='localhost',  # e.g., 'localhost' or '127.0.0.1'\n",
    "    user='root',  # e.g., 'root'\n",
    "    password='3172004@mysql',\n",
    "    database='NASA_Hackathon_Challenges'\n",
    ")\n",
    "# Create a cursor object\n",
    "cursor = conn.cursor()"
   ]
  },
  {
   "cell_type": "code",
   "execution_count": 23,
   "metadata": {},
   "outputs": [
    {
     "name": "stdout",
     "output_type": "stream",
     "text": [
      "Index(['Unnamed: 0', 'Challange Name ', 'Challange Summary ',\n",
      "       'Breif Potential Considerations', 'Outcomes Topics'],\n",
      "      dtype='object')\n"
     ]
    }
   ],
   "source": [
    "print(data.columns)"
   ]
  },
  {
   "cell_type": "code",
   "execution_count": 45,
   "metadata": {},
   "outputs": [
    {
     "name": "stdout",
     "output_type": "stream",
     "text": [
      "Data insertion successful!\n"
     ]
    }
   ],
   "source": [
    "def split_values(values):\n",
    "    return re.split(r'[\\/&-]', values)\n",
    "\n",
    "try:\n",
    "    for index, row in data.iterrows():\n",
    "        # Insert into Challenges table\n",
    "        insert_challenge_query = \"\"\"\n",
    "        INSERT INTO Challenges (ChallengeName, ChallengeSummary)\n",
    "        VALUES (%s, %s)\n",
    "        \"\"\"\n",
    "        cursor.execute(insert_challenge_query, (\n",
    "            row['Challange Name '],  # Exact column name\n",
    "            row['Challange Summary ']  # Exact column name\n",
    "        ))\n",
    "        challenge_id = cursor.lastrowid  # Get the last inserted ChallengeID\n",
    "\n",
    "        # Insert into PotentialConsiderations table\n",
    "        insert_consideration_query = \"\"\"\n",
    "        INSERT INTO PotentialConsiderations (ChallengeID, Consideration)\n",
    "        VALUES (%s, %s)\n",
    "        \"\"\"\n",
    "        considerations = split_values(row['Breif Potential Considerations'])  # Exact column name\n",
    "        for consideration in considerations:\n",
    "            cursor.execute(insert_consideration_query, (\n",
    "                challenge_id,\n",
    "                consideration.strip()\n",
    "            ))\n",
    "\n",
    "        # Insert into OutcomesTopics table\n",
    "        insert_outcome_query = \"\"\"\n",
    "        INSERT INTO OutcomesTopics (ChallengeID, OutcomeTopic)\n",
    "        VALUES (%s, %s)\n",
    "        \"\"\"\n",
    "        outcomes = split_values(row['Outcomes Topics'])  # Exact column name\n",
    "        for outcome in outcomes:\n",
    "            cursor.execute(insert_outcome_query, (\n",
    "                challenge_id,\n",
    "                outcome.strip()\n",
    "            ))\n",
    "\n",
    "        # Commit the transaction after each row insertion\n",
    "        conn.commit()\n",
    "\n",
    "    print(\"Data insertion successful!\")\n",
    "\n",
    "except mysql.connector.Error as error:\n",
    "    print(f\"Error inserting data into MySQL table: {error}\")\n",
    "\n",
    "finally:\n",
    "    # Close cursor and connection\n",
    "    cursor.close()\n",
    "    conn.close()"
   ]
  },
  {
   "cell_type": "code",
   "execution_count": null,
   "metadata": {},
   "outputs": [],
   "source": []
  }
 ],
 "metadata": {
  "kernelspec": {
   "display_name": "Python 3",
   "language": "python",
   "name": "python3"
  },
  "language_info": {
   "codemirror_mode": {
    "name": "ipython",
    "version": 3
   },
   "file_extension": ".py",
   "mimetype": "text/x-python",
   "name": "python",
   "nbconvert_exporter": "python",
   "pygments_lexer": "ipython3",
   "version": "3.10.0"
  }
 },
 "nbformat": 4,
 "nbformat_minor": 2
}
